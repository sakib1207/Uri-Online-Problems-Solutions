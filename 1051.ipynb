{
 "cells": [
  {
   "cell_type": "code",
   "execution_count": null,
   "metadata": {},
   "outputs": [],
   "source": [
    "total=0.00\n",
    "a=0.00\n",
    "b=0.00\n",
    "c=0.00\n",
    "d=0.00\n",
    "x=float(input())\n",
    "if  0 < x and x < 2000.01:\n",
    "    print('Isento')\n",
    "if x > 2000.00 and x < 3000.01:\n",
    "    b=x-2000.00\n",
    "    total=(.08*b)\n",
    "    print('R$ %.2f'%total)\n",
    "if x > 3000.00 and x < 4500.01:\n",
    "    c=x-3000.00\n",
    "    total=(.08*1000)+(.18*c)\n",
    "    print('R$ %.2f'%total)\n",
    "if x > 4500.00:\n",
    "    d=x-4500.00\n",
    "    total=(.08*1000)+(.18*1500)+(.28*d)\n",
    "    print('R$ %.2f'%total)"
   ]
  },
  {
   "cell_type": "code",
   "execution_count": null,
   "metadata": {},
   "outputs": [],
   "source": []
  }
 ],
 "metadata": {
  "kernelspec": {
   "display_name": "Python 3",
   "language": "python",
   "name": "python3"
  },
  "language_info": {
   "codemirror_mode": {
    "name": "ipython",
    "version": 3
   },
   "file_extension": ".py",
   "mimetype": "text/x-python",
   "name": "python",
   "nbconvert_exporter": "python",
   "pygments_lexer": "ipython3",
   "version": "3.6.4"
  }
 },
 "nbformat": 4,
 "nbformat_minor": 2
}
